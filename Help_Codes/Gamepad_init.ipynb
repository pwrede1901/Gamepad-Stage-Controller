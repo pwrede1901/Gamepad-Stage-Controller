{
 "cells": [
  {
   "cell_type": "markdown",
   "metadata": {},
   "source": [
    "# Gamepad Init\n",
    "\n",
    "Author: Paul Wrede\n",
    "Last Change: 14.02.2024\n",
    "Short Description: Useful to check if the Gamepad is actually initilised and detected from the PC"
   ]
  },
  {
   "cell_type": "code",
   "execution_count": null,
   "metadata": {},
   "outputs": [],
   "source": [
    "import pygame\n",
    "import time\n",
    "\n",
    "# Initialize Pygame and the joystick module\n",
    "pygame.init()\n",
    "pygame.joystick.init()\n",
    "\n",
    "# Setup\n",
    "joystick_detected = False\n",
    "if pygame.joystick.get_count() > 0:\n",
    "    joystick = pygame.joystick.Joystick(0)  # Get the first joystick\n",
    "    joystick.init()\n",
    "    print(f\"Joystick initialized: {joystick.get_name()}\")\n",
    "    joystick_detected = True\n",
    "else:\n",
    "    print(\"No joystick detected\")\n",
    "\n",
    "def process_joystick_input():\n",
    "    # Read analog sticks: Axis 0 and 1 for the left stick, 2 and 3 for the right stick\n",
    "    left_stick_x = joystick.get_axis(0)\n",
    "    left_stick_y = joystick.get_axis(1)\n",
    "    right_stick_x = joystick.get_axis(2)\n",
    "    right_stick_y = joystick.get_axis(3)\n",
    "\n",
    "    # For demonstration, print out the values\n",
    "    print(f\"Left Stick X: {left_stick_x:.2f}, Y: {left_stick_y:.2f}\")\n",
    "    print(f\"Right Stick X: {right_stick_x:.2f}, Y: {right_stick_y:.2f}\")\n",
    "\n",
    "    # Here, add your code to map these joystick positions to stage movements\n",
    "\n",
    "# Main loop\n",
    "try:\n",
    "    while joystick_detected:\n",
    "        pygame.event.pump()  # Process event queue\n",
    "        process_joystick_input()\n",
    "        time.sleep(0.1)  # Adding a small delay to make the output readable\n",
    "except KeyboardInterrupt:\n",
    "    print(\"Program exited\")\n",
    "\n",
    "pygame.quit()\n"
   ]
  }
 ],
 "metadata": {
  "language_info": {
   "name": "python"
  }
 },
 "nbformat": 4,
 "nbformat_minor": 2
}
