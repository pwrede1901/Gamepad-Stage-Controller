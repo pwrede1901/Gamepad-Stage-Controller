{
 "cells": [
  {
   "cell_type": "markdown",
   "metadata": {},
   "source": [
    "# Gamepad_map\n",
    "\n",
    "Author: Paul Wrede  \n",
    "Last Change: 14.02.2024  \n",
    "Short Description: Useful to check the mapping of the gamepad attached and adjust the button number in the main code depending on the gamepad used  \n"
   ]
  },
  {
   "cell_type": "code",
   "execution_count": null,
   "metadata": {},
   "outputs": [],
   "source": [
    "import pygame\n",
    "\n",
    "def initialize_pygame():\n",
    "    pygame.init()\n",
    "    pygame.joystick.init()\n",
    "    print(f\"Detected {pygame.joystick.get_count()} joystick(s)\")\n",
    "\n",
    "def check_controllers():\n",
    "    joystick_count = pygame.joystick.get_count()\n",
    "    for i in range(joystick_count):\n",
    "        joystick = pygame.joystick.Joystick(i)\n",
    "        joystick.init()\n",
    "        print(f\"Joystick {i}: {joystick.get_name()}. It has {joystick.get_numbuttons()} buttons, {joystick.get_numaxes()} axes, and {joystick.get_numhats()} hats.\")\n",
    "\n",
    "def monitor_joystick(joystick, threshold=0.1):\n",
    "    print(\"Monitoring joystick: Press buttons or move axes. Press Button 10 (usually L3 on PS4) to exit.\")\n",
    "    running = True\n",
    "    while running:\n",
    "        for event in pygame.event.get():  # User did something\n",
    "            if event.type == pygame.JOYBUTTONDOWN:\n",
    "                print(f\"Button {event.button} pressed.\")\n",
    "                if event.button == 10:  # Adjust as necessary for your exit condition\n",
    "                    running = False\n",
    "            elif event.type == pygame.JOYBUTTONUP:\n",
    "                print(f\"Button {event.button} released.\")\n",
    "            elif event.type == pygame.JOYAXISMOTION:\n",
    "                if abs(event.value) > threshold:  # Only print if movement exceeds threshold\n",
    "                    print(f\"Axis {event.axis} moved to {event.value}\")\n",
    "            elif event.type == pygame.JOYHATMOTION:\n",
    "                print(f\"Hat {event.hat} moved to {event.value}\")\n",
    "\n",
    "if __name__ == \"__main__\":\n",
    "    initialize_pygame()\n",
    "    if pygame.joystick.get_count() > 0:\n",
    "        check_controllers()\n",
    "        joystick = pygame.joystick.Joystick(0)\n",
    "        joystick.init()\n",
    "        monitor_joystick(joystick)\n",
    "    else:\n",
    "        print(\"No joystick detected.\")\n"
   ]
  }
 ],
 "metadata": {
  "language_info": {
   "name": "python"
  }
 },
 "nbformat": 4,
 "nbformat_minor": 2
}
