{
 "cells": [
  {
   "cell_type": "code",
   "execution_count": null,
   "metadata": {},
   "outputs": [],
   "source": [
    "import serial\n",
    "import time\n",
    "\n",
    "def send_cmd(com_port, string1, display):\n",
    "    # Open COM object\n",
    "    ser = serial.Serial(\n",
    "        port=com_port,\n",
    "        baudrate=115200,\n",
    "        parity=serial.PARITY_NONE,\n",
    "        stopbits=serial.STOPBITS_ONE,\n",
    "        bytesize=serial.EIGHTBITS,\n",
    "        timeout=0.1\n",
    "    )\n",
    "\n",
    "    # Perform direct communication with device\n",
    "    to_send = string1.encode() + b'\\r\\n'  # Add CR and LF as in MATLAB\n",
    "\n",
    "    # Send command\n",
    "    ser.write(to_send)\n",
    "    time.sleep(0.5)  # Wait for response\n",
    "\n",
    "    # Read response\n",
    "    response = ser.read(ser.in_waiting or 1).decode('utf-8')\n",
    "    num = len(response)\n",
    "\n",
    "    if num == 0:\n",
    "        print('timeout was reached.')\n",
    "    else:\n",
    "        # Display\n",
    "        if display:\n",
    "            print(f'String sent to Device: \"{string1}\"')\n",
    "            print(f'Response from Device (in HEX): \"{response.strip()}\"')\n",
    "            print(f'Number of Chars received: {num - 2} (+2 terminator chars)')\n",
    "            print('-')\n",
    "\n",
    "    # Close COM Stream\n",
    "    ser.close()\n",
    "    return response, num\n",
    "\n",
    "# Example usage\n",
    "com_port = 'COM3'  # Adjust as needed\n",
    "command = ':01050427FF00D0'  # Replace with your command\n",
    "response, num = send_cmd(com_port, command, True)\n"
   ]
  }
 ],
 "metadata": {
  "language_info": {
   "name": "python"
  }
 },
 "nbformat": 4,
 "nbformat_minor": 2
}
